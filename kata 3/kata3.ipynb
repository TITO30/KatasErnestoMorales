{
 "cells": [
  {
   "cell_type": "markdown",
   "metadata": {},
   "source": [
    "# Advertencia de Asteroide"
   ]
  },
  {
   "cell_type": "code",
   "execution_count": 5,
   "metadata": {},
   "outputs": [
    {
     "name": "stdout",
     "output_type": "stream",
     "text": [
      "Asteroide se acerca, alerta!!!!La velocidad del asteroide es de: 49Km/h\n"
     ]
    }
   ],
   "source": [
    "velocidad_asteroide =49\n",
    "\n",
    "if velocidad_asteroide > 25:\n",
    "    print(\"Asteroide se acerca, alerta!!!!\" + \"La velocidad del asteroide es de: \"+ str(velocidad_asteroide) + \"Km/h\")\n",
    "else:\n",
    "    print(\"Asteroide sin peligro\"+ \"La velocidad del asteroide es de: \"+ str(velocidad_asteroide) + \"Km/h\")\n"
   ]
  },
  {
   "cell_type": "code",
   "execution_count": 6,
   "metadata": {},
   "outputs": [
    {
     "name": "stdout",
     "output_type": "stream",
     "text": [
      "Asteroide imperceptible para los ciudadadosLa velocidad del asteroide es de: 19Km/h\n"
     ]
    }
   ],
   "source": [
    "velocidad_asteroide= 19\n",
    "\n",
    "if velocidad_asteroide > 20:\n",
    "    print(\"Ciudadanos busquen un asteroide es visible, se puede visualizar un destello\" \"La velocidad del asteroide es de: \"+ str(velocidad_asteroide) + \"Km/s\")\n",
    "elif:\n",
    "    print(\"Ciudadanos busquen un asteroide es visible, se puede visualizar un destello\" \"La velocidad del asteroide es de: \"+ str(velocidad_asteroide) + \"Km/s\")\n",
    "else\n",
    "    print(\"No es érceptible el asteroide\" + \"La velocidad del asteroide es de: \"+ str(velocidad_asteroide) + \"Km/s\")"
   ]
  },
  {
   "cell_type": "code",
   "execution_count": 14,
   "metadata": {},
   "outputs": [
    {
     "name": "stdout",
     "output_type": "stream",
     "text": [
      "Peligro de impacto, el asteroide se pude visualizar y estos son sus datos velocidad: 46km/stamaño: 27m\n"
     ]
    }
   ],
   "source": [
    "velocidad_asteroide=46\n",
    "tamaño_asteroide=27\n",
    "\n",
    "if tamaño_asteroide > 25 and velocidad_asteroide >20:\n",
    "    print(\"Peligro de impacto, el asteroide se pude visualizar y estos son sus datos \" + \"velocidad: \" + str(velocidad_asteroide) + \"km/s\" + \"tamaño: \" + str(tamaño_asteroide)+\"m\")\n",
    "elif velocidad_asteroide == 20:\n",
    "    print(\"Ciudadanos, el asteroide es visible\" + \"velocidad: \" + str(velocidad_asteroide) + \"km/s \" + \"tamaño: \" + str(tamaño_asteroide)+\"m\")\n",
    "else:\n",
    "    print(\"Nada que reportar por el momento\")\n"
   ]
  }
 ],
 "metadata": {
  "interpreter": {
   "hash": "b5c16899987c31a1e166d8bd5f59f10fd815442b94bd7bc028877057fad483fb"
  },
  "kernelspec": {
   "display_name": "Python 3.10.2 64-bit",
   "language": "python",
   "name": "python3"
  },
  "language_info": {
   "codemirror_mode": {
    "name": "ipython",
    "version": 3
   },
   "file_extension": ".py",
   "mimetype": "text/x-python",
   "name": "python",
   "nbconvert_exporter": "python",
   "pygments_lexer": "ipython3",
   "version": "3.10.2"
  },
  "orig_nbformat": 4
 },
 "nbformat": 4,
 "nbformat_minor": 2
}
