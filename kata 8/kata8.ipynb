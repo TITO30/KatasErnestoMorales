{
 "cells": [
  {
   "cell_type": "markdown",
   "metadata": {},
   "source": [
    "# Datos con diccionarios"
   ]
  },
  {
   "cell_type": "code",
   "execution_count": 9,
   "metadata": {},
   "outputs": [
    {
     "ename": "NameError",
     "evalue": "name 'name' is not defined",
     "output_type": "error",
     "traceback": [
      "\u001b[1;31m---------------------------------------------------------------------------\u001b[0m",
      "\u001b[1;31mNameError\u001b[0m                                 Traceback (most recent call last)",
      "\u001b[1;32mc:\\Users\\ernes\\OneDrive\\Escritorio\\Curso Microsoft\\kata 8\\kata8.ipynb Cell 2'\u001b[0m in \u001b[0;36m<module>\u001b[1;34m\u001b[0m\n\u001b[0;32m      <a href='vscode-notebook-cell:/c%3A/Users/ernes/OneDrive/Escritorio/Curso%20Microsoft/kata%208/kata8.ipynb#ch0000000?line=0'>1</a>\u001b[0m planet\u001b[39m=\u001b[39m{\n\u001b[1;32m----> <a href='vscode-notebook-cell:/c%3A/Users/ernes/OneDrive/Escritorio/Curso%20Microsoft/kata%208/kata8.ipynb#ch0000000?line=1'>2</a>\u001b[0m     name: Mars,\n\u001b[0;32m      <a href='vscode-notebook-cell:/c%3A/Users/ernes/OneDrive/Escritorio/Curso%20Microsoft/kata%208/kata8.ipynb#ch0000000?line=2'>3</a>\u001b[0m     moons: \u001b[39m2\u001b[39m\n\u001b[0;32m      <a href='vscode-notebook-cell:/c%3A/Users/ernes/OneDrive/Escritorio/Curso%20Microsoft/kata%208/kata8.ipynb#ch0000000?line=3'>4</a>\u001b[0m }\n",
      "\u001b[1;31mNameError\u001b[0m: name 'name' is not defined"
     ]
    }
   ],
   "source": [
    "\n",
    "\n",
    "planet={\n",
    "    name: Mars,\n",
    "    moons: 2\n",
    "}"
   ]
  },
  {
   "cell_type": "code",
   "execution_count": 3,
   "metadata": {},
   "outputs": [
    {
     "ename": "NameError",
     "evalue": "name 'planet' is not defined",
     "output_type": "error",
     "traceback": [
      "\u001b[1;31m---------------------------------------------------------------------------\u001b[0m",
      "\u001b[1;31mNameError\u001b[0m                                 Traceback (most recent call last)",
      "\u001b[1;32mc:\\Users\\ernes\\OneDrive\\Escritorio\\Curso Microsoft\\kata 8\\kata8.ipynb Cell 3'\u001b[0m in \u001b[0;36m<module>\u001b[1;34m\u001b[0m\n\u001b[1;32m----> <a href='vscode-notebook-cell:/c%3A/Users/ernes/OneDrive/Escritorio/Curso%20Microsoft/kata%208/kata8.ipynb#ch0000001?line=0'>1</a>\u001b[0m \u001b[39mprint\u001b[39m(\u001b[39mf\u001b[39m\u001b[39m'\u001b[39m\u001b[39m{\u001b[39;00mplanet[\u001b[39m\"\u001b[39m\u001b[39mname\u001b[39m\u001b[39m\"\u001b[39m]\u001b[39m}\u001b[39;00m\u001b[39m tiene \u001b[39m\u001b[39m{\u001b[39;00mplanet[\u001b[39m\"\u001b[39m\u001b[39mmoons\u001b[39m\u001b[39m\"\u001b[39m]\u001b[39m}\u001b[39;00m\u001b[39m lunas  \u001b[39m\u001b[39m'\u001b[39m)\n\u001b[0;32m      <a href='vscode-notebook-cell:/c%3A/Users/ernes/OneDrive/Escritorio/Curso%20Microsoft/kata%208/kata8.ipynb#ch0000001?line=2'>3</a>\u001b[0m planet[\u001b[39m'\u001b[39m\u001b[39mcircumference (km)\u001b[39m\u001b[39m'\u001b[39m] \u001b[39m=\u001b[39m {\n\u001b[0;32m      <a href='vscode-notebook-cell:/c%3A/Users/ernes/OneDrive/Escritorio/Curso%20Microsoft/kata%208/kata8.ipynb#ch0000001?line=3'>4</a>\u001b[0m     \u001b[39m'\u001b[39m\u001b[39mpolar\u001b[39m\u001b[39m'\u001b[39m: \u001b[39m6752\u001b[39m,\n\u001b[0;32m      <a href='vscode-notebook-cell:/c%3A/Users/ernes/OneDrive/Escritorio/Curso%20Microsoft/kata%208/kata8.ipynb#ch0000001?line=4'>5</a>\u001b[0m     \u001b[39m'\u001b[39m\u001b[39mequatorial\u001b[39m\u001b[39m'\u001b[39m: \u001b[39m6792\u001b[39m\n\u001b[0;32m      <a href='vscode-notebook-cell:/c%3A/Users/ernes/OneDrive/Escritorio/Curso%20Microsoft/kata%208/kata8.ipynb#ch0000001?line=5'>6</a>\u001b[0m }\n\u001b[0;32m      <a href='vscode-notebook-cell:/c%3A/Users/ernes/OneDrive/Escritorio/Curso%20Microsoft/kata%208/kata8.ipynb#ch0000001?line=7'>8</a>\u001b[0m \u001b[39mprint\u001b[39m(\u001b[39mf\u001b[39m\u001b[39m'\u001b[39m\u001b[39m{\u001b[39;00mplanet[\u001b[39m\"\u001b[39m\u001b[39mname\u001b[39m\u001b[39m\"\u001b[39m]\u001b[39m}\u001b[39;00m\u001b[39m su circunferencia polas es  \u001b[39m\u001b[39m{\u001b[39;00mplanet[\u001b[39m\"\u001b[39m\u001b[39mcircumference (km)\u001b[39m\u001b[39m\"\u001b[39m][\u001b[39m\"\u001b[39m\u001b[39mpolar\u001b[39m\u001b[39m\"\u001b[39m]\u001b[39m}\u001b[39;00m\u001b[39m'\u001b[39m)\n",
      "\u001b[1;31mNameError\u001b[0m: name 'planet' is not defined"
     ]
    }
   ],
   "source": [
    "print(f'{planet[\"name\"]} tiene {planet[\"moons\"]} lunas  ')\n",
    "\n",
    "planet['circumference (km)'] = {\n",
    "    'polar': 6752,\n",
    "    'equatorial': 6792\n",
    "}\n",
    "\n",
    "print(f'{planet[\"name\"]} su circunferencia polas es  {planet[\"circumference (km)\"][\"polar\"]}')"
   ]
  },
  {
   "cell_type": "code",
   "execution_count": 6,
   "metadata": {},
   "outputs": [
    {
     "name": "stdout",
     "output_type": "stream",
     "text": [
      "El promedio es 17.833333333333332\n"
     ]
    }
   ],
   "source": [
    "planet_moons = {\n",
    "    'mercury': 0,\n",
    "    'venus': 0,\n",
    "    'earth': 1,\n",
    "    'mars': 2,\n",
    "    'jupiter': 79,\n",
    "    'saturn': 82,\n",
    "    'uranus': 27,\n",
    "    'neptune': 14,\n",
    "    'pluto': 5,\n",
    "    'haumea': 2,\n",
    "    'makemake': 1,\n",
    "    'eris': 1\n",
    "}\n",
    "\n",
    "moons = planet_moons.values()\n",
    "\n",
    "planets = len(planet_moons.keys())\n",
    "\n",
    "total = 0\n",
    "for moon in moons:\n",
    "    total = total + moon\n",
    "\n",
    "average = total / planets\n",
    "\n",
    "\n",
    "print(\"El promedio es\",average)\n",
    "\n"
   ]
  }
 ],
 "metadata": {
  "interpreter": {
   "hash": "b5c16899987c31a1e166d8bd5f59f10fd815442b94bd7bc028877057fad483fb"
  },
  "kernelspec": {
   "display_name": "Python 3.10.2 64-bit",
   "language": "python",
   "name": "python3"
  },
  "language_info": {
   "codemirror_mode": {
    "name": "ipython",
    "version": 3
   },
   "file_extension": ".py",
   "mimetype": "text/x-python",
   "name": "python",
   "nbconvert_exporter": "python",
   "pygments_lexer": "ipython3",
   "version": "3.10.2"
  },
  "orig_nbformat": 4
 },
 "nbformat": 4,
 "nbformat_minor": 2
}
