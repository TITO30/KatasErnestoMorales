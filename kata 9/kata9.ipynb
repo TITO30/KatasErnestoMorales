{
 "cells": [
  {
   "cell_type": "markdown",
   "metadata": {},
   "source": [
    "# Funciones"
   ]
  },
  {
   "cell_type": "code",
   "execution_count": 6,
   "metadata": {},
   "outputs": [
    {
     "name": "stdout",
     "output_type": "stream",
     "text": [
      "Fuel Report:\n",
      "    Total: 78.33333333333333%\n",
      "    Tanque principal: 80%\n",
      "    Tanque externo: 70%\n",
      "    Tanque hidrogeno: 85% \n",
      "    \n"
     ]
    }
   ],
   "source": [
    "def reporte(tanque_principal, tanque_externo, tanque_hidrogeno):\n",
    "    promedio = (tanque_principal + tanque_externo + tanque_hidrogeno) / 3\n",
    "    return f\"\"\"Reporte:\n",
    "    Total: {promedio}%\n",
    "    Tanque principal: {tanque_principal}%\n",
    "    Tanque externo: {tanque_externo}%\n",
    "    Tanque hidrogeno: {tanque_hidrogeno}% \n",
    "    \"\"\"\n",
    "print(reporte(80, 70, 85))\n",
    "\n",
    "    "
   ]
  },
  {
   "cell_type": "code",
   "execution_count": 10,
   "metadata": {},
   "outputs": [
    {
     "name": "stdout",
     "output_type": "stream",
     "text": [
      "Reporte:  Reporte:\n",
      "    Promedio: 78.0%\n",
      "    Tanque principal: 88%\n",
      "    Tanque externo: 76%\n",
      "    Tanque hidrogeno: 70% \n",
      "    \n"
     ]
    }
   ],
   "source": [
    "def promedio(valores):\n",
    "    total = sum(valores)\n",
    "    elementos = len(valores)\n",
    "    return total / elementos\n",
    "\n",
    "promedio([80, 85, 81])\n",
    "\n",
    "\n",
    "\n",
    "\n",
    "def reporte(tanque_principal, tanque_externo, tanque_hidrogeno):\n",
    "    return f\"\"\"Reporte:\n",
    "    Promedio: {promedio([tanque_principal, tanque_externo, tanque_hidrogeno])}%\n",
    "    Tanque principal: {tanque_principal}%\n",
    "    Tanque externo: {tanque_externo}%\n",
    "    Tanque hidrogeno: {tanque_hidrogeno}% \n",
    "    \"\"\"\n",
    "print(\"Reporte: \",reporte(88, 76, 70))"
   ]
  },
  {
   "cell_type": "code",
   "execution_count": 12,
   "metadata": {},
   "outputs": [
    {
     "name": "stdout",
     "output_type": "stream",
     "text": [
      "\n",
      "    Destino Moon\n",
      "    Tiempo de vuelo: 65 minutos\n",
      "    Combustible: 500000 galones\n",
      "    \n",
      "\n",
      "    Destino Moon\n",
      "    Tiempo de vuelo: 76 minutos\n",
      "    Combustible: 500000\n",
      "    \n",
      "\n",
      "    Destino Moon\n",
      "    Tiempo de vuelo: 74 minutos\n",
      "    Combustible: 500000\n",
      "    interno tank --> 300000 galones left\n",
      "externo tank --> 200000 galones left\n",
      "\n"
     ]
    }
   ],
   "source": [
    "def reporte_mision(tiempo_despegue, tiempo_vuelo, destino, tanque_externo, tanque_interno):\n",
    "    return f\"\"\"\n",
    "    Destino {destino}\n",
    "    Tiempo de vuelo: {tiempo_despegue + tiempo_vuelo} minutos\n",
    "    Combustible: {tanque_externo + tanque_interno} galones\n",
    "    \"\"\"\n",
    "\n",
    "print(reporte_mision(14, 51, \"Moon\", 200000, 300000))\n",
    "\n",
    "\n",
    "def reporte_mision(destino, *minutos, **reserva):\n",
    "    return f\"\"\"\n",
    "    Destino {destino}\n",
    "    Tiempo de vuelo: {sum(minutos)} minutos\n",
    "    Combustible: {sum(reserva.values())}\n",
    "    \"\"\"\n",
    "\n",
    "print(reporte_mision(\"Moon\", 10, 15, 51, interno=300000, externo=200000))\n",
    "\n",
    "\n",
    "\n",
    "def reporte_mision(destino, *minutos, **reserva):\n",
    "    reporte = f\"\"\"\n",
    "    Destino {destino}\n",
    "    Tiempo de vuelo: {sum(minutos)} minutos\n",
    "    Combustible: {sum(reserva.values())}\n",
    "    \"\"\"\n",
    "    for tanque, galones in reserva.items():\n",
    "        reporte += f\"{tanque} tank --> {galones} galones\\n\"\n",
    "    return reporte\n",
    "\n",
    "print(reporte_mision(\"Moon\", 8, 11, 55, interno=300000, externo=200000))"
   ]
  }
 ],
 "metadata": {
  "interpreter": {
   "hash": "b5c16899987c31a1e166d8bd5f59f10fd815442b94bd7bc028877057fad483fb"
  },
  "kernelspec": {
   "display_name": "Python 3.10.2 64-bit",
   "language": "python",
   "name": "python3"
  },
  "language_info": {
   "codemirror_mode": {
    "name": "ipython",
    "version": 3
   },
   "file_extension": ".py",
   "mimetype": "text/x-python",
   "name": "python",
   "nbconvert_exporter": "python",
   "pygments_lexer": "ipython3",
   "version": "3.10.2"
  },
  "orig_nbformat": 4
 },
 "nbformat": 4,
 "nbformat_minor": 2
}
