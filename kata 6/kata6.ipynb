{
 "cells": [
  {
   "cell_type": "markdown",
   "metadata": {},
   "source": [
    "# Listas con planetas"
   ]
  },
  {
   "cell_type": "code",
   "execution_count": 1,
   "metadata": {},
   "outputs": [
    {
     "name": "stdout",
     "output_type": "stream",
     "text": [
      "El numero de planetas son:  9\n",
      "El ultimo planeta es Pluton\n"
     ]
    }
   ],
   "source": [
    "planetas=[\"Mercurio\",\"Venus\",\"Tierra\",\"Marte\",\"Jupiter\",\"Saturno\",\"Urano\",\"Neptuno\"]\n",
    "planetas.append(\"Pluton\")\n",
    "\n",
    "print(\"El numero de planetas son: \", len(planetas))\n",
    "print(\"El ultimo planeta es\", planetas[-1])"
   ]
  },
  {
   "cell_type": "code",
   "execution_count": 2,
   "metadata": {},
   "outputs": [
    {
     "ename": "ValueError",
     "evalue": "'' is not in list",
     "output_type": "error",
     "traceback": [
      "\u001b[1;31m---------------------------------------------------------------------------\u001b[0m",
      "\u001b[1;31mValueError\u001b[0m                                Traceback (most recent call last)",
      "\u001b[1;32mc:\\Users\\ernes\\OneDrive\\Escritorio\\Curso Microsoft\\kata 6\\kata6.ipynb Cell 3'\u001b[0m in \u001b[0;36m<module>\u001b[1;34m\u001b[0m\n\u001b[0;32m      <a href='vscode-notebook-cell:/c%3A/Users/ernes/OneDrive/Escritorio/Curso%20Microsoft/kata%206/kata6.ipynb#ch0000002?line=0'>1</a>\u001b[0m planetas\u001b[39m=\u001b[39m[\u001b[39m\"\u001b[39m\u001b[39mMercurio\u001b[39m\u001b[39m\"\u001b[39m,\u001b[39m\"\u001b[39m\u001b[39mVenus\u001b[39m\u001b[39m\"\u001b[39m,\u001b[39m\"\u001b[39m\u001b[39mTierra\u001b[39m\u001b[39m\"\u001b[39m,\u001b[39m\"\u001b[39m\u001b[39mMarte\u001b[39m\u001b[39m\"\u001b[39m,\u001b[39m\"\u001b[39m\u001b[39mJupiter\u001b[39m\u001b[39m\"\u001b[39m,\u001b[39m\"\u001b[39m\u001b[39mSaturno\u001b[39m\u001b[39m\"\u001b[39m,\u001b[39m\"\u001b[39m\u001b[39mUrano\u001b[39m\u001b[39m\"\u001b[39m,\u001b[39m\"\u001b[39m\u001b[39mNeptuno\u001b[39m\u001b[39m\"\u001b[39m]\n\u001b[0;32m      <a href='vscode-notebook-cell:/c%3A/Users/ernes/OneDrive/Escritorio/Curso%20Microsoft/kata%206/kata6.ipynb#ch0000002?line=2'>3</a>\u001b[0m Nom_planeta\u001b[39m=\u001b[39m\u001b[39minput\u001b[39m(\u001b[39m\"\u001b[39m\u001b[39mIntroduce el nombre del planeta\u001b[39m\u001b[39m\"\u001b[39m)\n\u001b[1;32m----> <a href='vscode-notebook-cell:/c%3A/Users/ernes/OneDrive/Escritorio/Curso%20Microsoft/kata%206/kata6.ipynb#ch0000002?line=4'>5</a>\u001b[0m indice\u001b[39m=\u001b[39mplanetas\u001b[39m.\u001b[39;49mindex(Nom_planeta)\n\u001b[0;32m      <a href='vscode-notebook-cell:/c%3A/Users/ernes/OneDrive/Escritorio/Curso%20Microsoft/kata%206/kata6.ipynb#ch0000002?line=6'>7</a>\u001b[0m planetas_antes\u001b[39m=\u001b[39mplanetas[\u001b[39m0\u001b[39m:Nom_planeta]\n\u001b[0;32m      <a href='vscode-notebook-cell:/c%3A/Users/ernes/OneDrive/Escritorio/Curso%20Microsoft/kata%206/kata6.ipynb#ch0000002?line=8'>9</a>\u001b[0m planetas_despues\u001b[39m=\u001b[39mplanetas[Nom_planeta\u001b[39m+\u001b[39m\u001b[39m1\u001b[39m:]\n",
      "\u001b[1;31mValueError\u001b[0m: '' is not in list"
     ]
    }
   ],
   "source": [
    "planetas=[\"Mercurio\",\"Venus\",\"Tierra\",\"Marte\",\"Jupiter\",\"Saturno\",\"Urano\",\"Neptuno\"]\n",
    "\n",
    "Nom_planeta=input(\"Introduce el nombre del planeta\")\n",
    "\n",
    "indice=planetas.index(Nom_planeta)\n",
    "\n",
    "planetas_antes=planetas[0:Nom_planeta]\n",
    "\n",
    "planetas_despues=planetas[Nom_planeta+1:]\n",
    "\n",
    "print(\"Los planetas antes son: \",planetas_antes)\n",
    "print(\"Los planetas despues son: \",planetas_despues)"
   ]
  }
 ],
 "metadata": {
  "interpreter": {
   "hash": "b5c16899987c31a1e166d8bd5f59f10fd815442b94bd7bc028877057fad483fb"
  },
  "kernelspec": {
   "display_name": "Python 3.10.2 64-bit",
   "language": "python",
   "name": "python3"
  },
  "language_info": {
   "codemirror_mode": {
    "name": "ipython",
    "version": 3
   },
   "file_extension": ".py",
   "mimetype": "text/x-python",
   "name": "python",
   "nbconvert_exporter": "python",
   "pygments_lexer": "ipython3",
   "version": "3.10.2"
  },
  "orig_nbformat": 4
 },
 "nbformat": 4,
 "nbformat_minor": 2
}
